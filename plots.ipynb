{
 "cells": [
  {
   "cell_type": "code",
   "execution_count": 1,
   "metadata": {},
   "outputs": [],
   "source": [
    "import pandas as pd\n",
    "import plotly.graph_objects as go \n",
    "import os"
   ]
  },
  {
   "cell_type": "code",
   "execution_count": null,
   "metadata": {},
   "outputs": [],
   "source": [
    "data = pd.read_csv(*)\n",
    "#create metadata\n",
    "def dir_dataframe(dir):\n",
    "\t\"\"\"For a given directory, add pathing to each csv file present, along with actuation type and timestamp\"\"\"\n",
    "\tfirst_set = []\n",
    "\tfor root, dirs, files in os.walk(dir):\n",
    "\t\tif not dirs:\n",
    "\t\t\tfor file in files:\n",
    "\t\t\t\tif file.endswith(\".csv\"):\n",
    "\t\t\t\t\tfirst_set.append((os.path.join(root, file), os.path.basename(root)))\n",
    "\n",
    "\tdf = pd.DataFrame(data=first_set, columns=[\"paths\", \"subdir\"])\n",
    "\ttimes = []\n",
    "\ttype = []\n",
    "\tfor path in df.paths:\n",
    "\t\ti = df[(df.paths == path)].index\n",
    "\t\ttime = re.search(r\"_([0-9]*).csv\", os.path.basename(path))\n",
    "\t\t#assay = re.search(r\"(.*)_CAT\", os.path.basename(path))\n",
    "\t\tif time and assay:\n",
    "\t\t\ttimes.append(pd.to_datetime(time.group(1)))\n",
    "\t\t\ttype.append(assay.group(1))\n",
    "\t\telse:\n",
    "\t\t\tdf = df.drop(i)\n",
    "\tdf[\"time\"] = times\n",
    "\tdf[\"type\"] = type\n",
    "\tdf = df.sort_values(by=[\"type\", \"time\"])\n",
    "\treturn df\n",
    "\n"
   ]
  },
  {
   "cell_type": "code",
   "execution_count": null,
   "metadata": {},
   "outputs": [],
   "source": [
    "def plot_csvs(df1, name1, df2, name2, dir = None):\n",
    "\t#step_counts = [\"XPosition\", \"ZPosition\", \"ThetaPosition\"]\n",
    "\t#step_counts = [\"XStepCount\", \"ZStepCount\", \"PumpStepCount\", \"TStepCount\"]\n",
    "\tfig = make_subplots(\n",
    "\t\trows=1,\n",
    "\t\tcols=1,\n",
    "\t#\tsubplot_titles=(\"XPot\", \"ZPosition\", \"ThetaPot\")\n",
    "\t#\tsubplot_titles=(\"XStepCount\", \"TStepCount\", \"ZStepCount\", \"PumpStepCount\"),\n",
    "\t\tsubplot_titles=(\"ZStepCount\")\n",
    "\t)\n",
    "\t#for label in range(1, len(step_counts)+1):\n",
    "\t\t#x, y = ((label >> 1) & 1) + 1, (label & 1) + 1\n",
    "\t#\tstep_count_type = step_counts[label-1]\n",
    "\tfig.add_trace(\n",
    "\t\t\tgo.Scatter(\n",
    "\t\t\t\tx=df1[\"TimeStamp\"],\n",
    "\t\t\t\ty=df1[\"ZStepCount\"],\n",
    "\t\t\t\tname=name1,\n",
    "\t\t\t\tline=dict(color=\"firebrick\"),\n",
    "\t\t\t),\n",
    "\t\t\trow=1,\n",
    "\t\t\tcol=1,\n",
    "\t\t)\n",
    "\tfig.add_trace(\n",
    "\t\t\tgo.Scatter(\n",
    "\t\t\t\tx=df2[\"TimeStamp\"],\n",
    "\t\t\t\ty=df2[\"ZStepCount\"],\n",
    "\t\t\t\tname=name2,\n",
    "\t\t\t\tline=dict(color=\"royalblue\"),\n",
    "\t\t\t),\n",
    "\t\t\trow=1,\n",
    "\t\t\tcol=1,\n",
    "\t\t)\n",
    "\tnames = set()\n",
    "\tfig.for_each_trace(\n",
    "\t\tlambda trace: trace.update(showlegend=False)\n",
    "\t\tif (trace.name in names)\n",
    "\t\telse names.add(trace.name)\n",
    "\t)\n",
    "\tfig.update_layout(showlegend=True)\n",
    "\tfig.show()\n",
    "\tname1 = os.path.basename(name1.rstrip(\".csv\"))\n",
    "\tfig.write_html(file=f\"results/{dir}/{name1}.html\", auto_open=False)\n",
    "\n"
   ]
  },
  {
   "cell_type": "code",
   "execution_count": null,
   "metadata": {},
   "outputs": [],
   "source": []
  }
 ],
 "metadata": {
  "kernelspec": {
   "display_name": "plots",
   "language": "python",
   "name": "python3"
  },
  "language_info": {
   "codemirror_mode": {
    "name": "ipython",
    "version": 3
   },
   "file_extension": ".py",
   "mimetype": "text/x-python",
   "name": "python",
   "nbconvert_exporter": "python",
   "pygments_lexer": "ipython3",
   "version": "3.12.3"
  }
 },
 "nbformat": 4,
 "nbformat_minor": 2
}
